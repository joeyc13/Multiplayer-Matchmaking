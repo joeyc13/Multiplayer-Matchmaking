{
 "cells": [
  {
   "cell_type": "code",
   "execution_count": 88,
   "metadata": {},
   "outputs": [],
   "source": [
    "import numpy as np\n",
    "from matplotlib import pyplot as plt\n",
    "import pandas as pd\n",
    "from sklearn import preprocessing\n",
    "\n",
    "\n",
    "mu, sigma = 1, 1\n",
    "s = np.random.default_rng().normal(mu, sigma, 1000)\n",
    "# s[0]"
   ]
  },
  {
   "cell_type": "code",
   "execution_count": 89,
   "metadata": {},
   "outputs": [
    {
     "data": {
      "image/png": "[encoded data removed]",
      "text/plain": [
       "<Figure size 432x288 with 1 Axes>"
      ]
     },
     "metadata": {
      "needs_background": "light"
     },
     "output_type": "display_data"
    }
   ],
   "source": [
    "count, bins, ignored = plt.hist(s, 30, density=True)\n",
    "plt.plot(bins, 1/(sigma * np.sqrt(2 * np.pi)) *\n",
    "               np.exp( - (bins - mu)**2 / (2 * sigma**2) ),\n",
    "         linewidth=2, color='r')\n",
    "plt.show()"
   ]
  },
  {
   "cell_type": "markdown",
   "metadata": {},
   "source": [
    "# Generating random player stats\n",
    "\n",
    "Will use generator from numpy that creates a normally distributed list of numbers. Each index correspondes to a specific player's stats.\n",
    "\n",
    "Assume all players have played ~100 games\n",
    "\n",
    "I.e kills[5] corresponds to player 5's average kill per game"
   ]
  },
  {
   "cell_type": "code",
   "execution_count": 90,
   "metadata": {},
   "outputs": [
    {
     "data": {
      "image/png": "[encoded data removed]",
      "text/plain": [
       "<Figure size 432x288 with 1 Axes>"
      ]
     },
     "metadata": {
      "needs_background": "light"
     },
     "output_type": "display_data"
    }
   ],
   "source": [
    "player_numbers = [i for i in range(1000)]\n",
    "\n",
    "kills_mean = 2\n",
    "kills_std = 2\n",
    "kills = abs(np.random.default_rng().normal(kills_mean, kills_std, 1000))\n",
    "\n",
    "\n",
    "damage_mean = 600\n",
    "damage_std = 200\n",
    "damage = abs(np.random.default_rng().normal(damage_mean, damage_std, 1000))\n",
    "damage_norm = preprocessing.normalize([damage])\n",
    "\n",
    "skill_mu = 0.5\n",
    "skill_sigma = 0.2\n",
    "skill_level = np.random.default_rng().normal(0.5, 0.2, 1000)\n",
    "\n",
    "count, bins, ignored = plt.hist(skill_level, 30, density=True)\n",
    "plt.plot(bins, 1/(skill_sigma * np.sqrt(2 * np.pi)) *\n",
    "               np.exp( - (bins - skill_mu)**2 / (2 * skill_sigma**2) ),\n",
    "         linewidth=2, color='r')\n",
    "plt.show()\n"
   ]
  },
  {
   "cell_type": "markdown",
   "metadata": {},
   "source": [
    "# Create player data frame "
   ]
  },
  {
   "cell_type": "code",
   "execution_count": 91,
   "metadata": {},
   "outputs": [
    {
     "data": {
      "text/html": [
       "<div>\n",
       "<style scoped>\n",
       "    .dataframe tbody tr th:only-of-type {\n",
       "        vertical-align: middle;\n",
       "    }\n",
       "\n",
       "    .dataframe tbody tr th {\n",
       "        vertical-align: top;\n",
       "    }\n",
       "\n",
       "    .dataframe thead th {\n",
       "        text-align: right;\n",
       "    }\n",
       "</style>\n",
       "<table border=\"1\" class=\"dataframe\">\n",
       "  <thead>\n",
       "    <tr style=\"text-align: right;\">\n",
       "      <th></th>\n",
       "      <th>kills_per_game</th>\n",
       "      <th>damage_per_game</th>\n",
       "    </tr>\n",
       "  </thead>\n",
       "  <tbody>\n",
       "    <tr>\n",
       "      <th>0</th>\n",
       "      <td>2.495069</td>\n",
       "      <td>510.048941</td>\n",
       "    </tr>\n",
       "    <tr>\n",
       "      <th>1</th>\n",
       "      <td>3.342100</td>\n",
       "      <td>528.432051</td>\n",
       "    </tr>\n",
       "    <tr>\n",
       "      <th>2</th>\n",
       "      <td>0.774721</td>\n",
       "      <td>440.963679</td>\n",
       "    </tr>\n",
       "    <tr>\n",
       "      <th>3</th>\n",
       "      <td>2.397599</td>\n",
       "      <td>497.821689</td>\n",
       "    </tr>\n",
       "    <tr>\n",
       "      <th>4</th>\n",
       "      <td>0.827048</td>\n",
       "      <td>842.236519</td>\n",
       "    </tr>\n",
       "    <tr>\n",
       "      <th>5</th>\n",
       "      <td>1.869690</td>\n",
       "      <td>751.562980</td>\n",
       "    </tr>\n",
       "    <tr>\n",
       "      <th>6</th>\n",
       "      <td>2.849856</td>\n",
       "      <td>385.400685</td>\n",
       "    </tr>\n",
       "    <tr>\n",
       "      <th>7</th>\n",
       "      <td>0.378227</td>\n",
       "      <td>779.045127</td>\n",
       "    </tr>\n",
       "    <tr>\n",
       "      <th>8</th>\n",
       "      <td>4.221785</td>\n",
       "      <td>844.727053</td>\n",
       "    </tr>\n",
       "    <tr>\n",
       "      <th>9</th>\n",
       "      <td>2.808963</td>\n",
       "      <td>676.098911</td>\n",
       "    </tr>\n",
       "  </tbody>\n",
       "</table>\n",
       "</div>"
      ],
      "text/plain": [
       "   kills_per_game  damage_per_game\n",
       "0        2.495069       510.048941\n",
       "1        3.342100       528.432051\n",
       "2        0.774721       440.963679\n",
       "3        2.397599       497.821689\n",
       "4        0.827048       842.236519\n",
       "5        1.869690       751.562980\n",
       "6        2.849856       385.400685\n",
       "7        0.378227       779.045127\n",
       "8        4.221785       844.727053\n",
       "9        2.808963       676.098911"
      ]
     },
     "execution_count": 91,
     "metadata": {},
     "output_type": "execute_result"
    }
   ],
   "source": [
    "player_stats = pd.DataFrame({\n",
    "    'kills_per_game': kills,\n",
    "    'damage_per_game': damage\n",
    "},  index=player_numbers)\n",
    "\n",
    "player_stats.head(10)"
   ]
  },
  {
   "cell_type": "code",
   "execution_count": 93,
   "metadata": {},
   "outputs": [
    {
     "data": {
      "text/html": [
       "<div>\n",
       "<style scoped>\n",
       "    .dataframe tbody tr th:only-of-type {\n",
       "        vertical-align: middle;\n",
       "    }\n",
       "\n",
       "    .dataframe tbody tr th {\n",
       "        vertical-align: top;\n",
       "    }\n",
       "\n",
       "    .dataframe thead th {\n",
       "        text-align: right;\n",
       "    }\n",
       "</style>\n",
       "<table border=\"1\" class=\"dataframe\">\n",
       "  <thead>\n",
       "    <tr style=\"text-align: right;\">\n",
       "      <th></th>\n",
       "      <th>kills_per_game</th>\n",
       "      <th>damage_per_game</th>\n",
       "    </tr>\n",
       "  </thead>\n",
       "  <tbody>\n",
       "    <tr>\n",
       "      <th>0</th>\n",
       "      <td>0.245445</td>\n",
       "      <td>0.390890</td>\n",
       "    </tr>\n",
       "    <tr>\n",
       "      <th>1</th>\n",
       "      <td>0.328803</td>\n",
       "      <td>0.405404</td>\n",
       "    </tr>\n",
       "    <tr>\n",
       "      <th>2</th>\n",
       "      <td>0.076143</td>\n",
       "      <td>0.336344</td>\n",
       "    </tr>\n",
       "    <tr>\n",
       "      <th>3</th>\n",
       "      <td>0.235853</td>\n",
       "      <td>0.381236</td>\n",
       "    </tr>\n",
       "    <tr>\n",
       "      <th>4</th>\n",
       "      <td>0.081293</td>\n",
       "      <td>0.653165</td>\n",
       "    </tr>\n",
       "    <tr>\n",
       "      <th>5</th>\n",
       "      <td>0.183901</td>\n",
       "      <td>0.581574</td>\n",
       "    </tr>\n",
       "    <tr>\n",
       "      <th>6</th>\n",
       "      <td>0.280360</td>\n",
       "      <td>0.292475</td>\n",
       "    </tr>\n",
       "    <tr>\n",
       "      <th>7</th>\n",
       "      <td>0.037124</td>\n",
       "      <td>0.603273</td>\n",
       "    </tr>\n",
       "    <tr>\n",
       "      <th>8</th>\n",
       "      <td>0.415374</td>\n",
       "      <td>0.655131</td>\n",
       "    </tr>\n",
       "    <tr>\n",
       "      <th>9</th>\n",
       "      <td>0.276336</td>\n",
       "      <td>0.521993</td>\n",
       "    </tr>\n",
       "  </tbody>\n",
       "</table>\n",
       "</div>"
      ],
      "text/plain": [
       "   kills_per_game  damage_per_game\n",
       "0        0.245445         0.390890\n",
       "1        0.328803         0.405404\n",
       "2        0.076143         0.336344\n",
       "3        0.235853         0.381236\n",
       "4        0.081293         0.653165\n",
       "5        0.183901         0.581574\n",
       "6        0.280360         0.292475\n",
       "7        0.037124         0.603273\n",
       "8        0.415374         0.655131\n",
       "9        0.276336         0.521993"
      ]
     },
     "execution_count": 93,
     "metadata": {},
     "output_type": "execute_result"
    }
   ],
   "source": [
    "scaler = preprocessing.MinMaxScaler()\n",
    "names=player_stats.columns\n",
    "d = scaler.fit_transform(player_stats)\n",
    "# print(d)\n",
    "\n",
    "player_stats_norm = pd.DataFrame(d, columns=names)\n",
    "player_stats_norm.head(10)"
   ]
  },
  {
   "cell_type": "code",
   "execution_count": 96,
   "metadata": {},
   "outputs": [
    {
     "data": {
      "text/html": [
       "<div>\n",
       "<style scoped>\n",
       "    .dataframe tbody tr th:only-of-type {\n",
       "        vertical-align: middle;\n",
       "    }\n",
       "\n",
       "    .dataframe tbody tr th {\n",
       "        vertical-align: top;\n",
       "    }\n",
       "\n",
       "    .dataframe thead th {\n",
       "        text-align: right;\n",
       "    }\n",
       "</style>\n",
       "<table border=\"1\" class=\"dataframe\">\n",
       "  <thead>\n",
       "    <tr style=\"text-align: right;\">\n",
       "      <th></th>\n",
       "      <th>kills_per_game</th>\n",
       "      <th>damage_per_game</th>\n",
       "      <th>player_skill</th>\n",
       "    </tr>\n",
       "  </thead>\n",
       "  <tbody>\n",
       "    <tr>\n",
       "      <th>0</th>\n",
       "      <td>0.245445</td>\n",
       "      <td>0.390890</td>\n",
       "      <td>0.318167</td>\n",
       "    </tr>\n",
       "    <tr>\n",
       "      <th>1</th>\n",
       "      <td>0.328803</td>\n",
       "      <td>0.405404</td>\n",
       "      <td>0.367103</td>\n",
       "    </tr>\n",
       "    <tr>\n",
       "      <th>2</th>\n",
       "      <td>0.076143</td>\n",
       "      <td>0.336344</td>\n",
       "      <td>0.206244</td>\n",
       "    </tr>\n",
       "    <tr>\n",
       "      <th>3</th>\n",
       "      <td>0.235853</td>\n",
       "      <td>0.381236</td>\n",
       "      <td>0.308544</td>\n",
       "    </tr>\n",
       "    <tr>\n",
       "      <th>4</th>\n",
       "      <td>0.081293</td>\n",
       "      <td>0.653165</td>\n",
       "      <td>0.367229</td>\n",
       "    </tr>\n",
       "  </tbody>\n",
       "</table>\n",
       "</div>"
      ],
      "text/plain": [
       "   kills_per_game  damage_per_game  player_skill\n",
       "0        0.245445         0.390890      0.318167\n",
       "1        0.328803         0.405404      0.367103\n",
       "2        0.076143         0.336344      0.206244\n",
       "3        0.235853         0.381236      0.308544\n",
       "4        0.081293         0.653165      0.367229"
      ]
     },
     "execution_count": 96,
     "metadata": {},
     "output_type": "execute_result"
    }
   ],
   "source": [
    "player_stats_norm['player_skill'] = (player_stats_norm.kills_per_game + player_stats_norm.damage_per_game) / (len(player_stats_norm.columns) - 1)\n",
    "player_stats_norm.head()"
   ]
  }
 ],
 "metadata": {
  "kernelspec": {
   "display_name": "Python 3.10.6 64-bit (windows store)",
   "language": "python",
   "name": "python3"
  },
  "language_info": {
   "codemirror_mode": {
    "name": "ipython",
    "version": 3
   },
   "file_extension": ".py",
   "mimetype": "text/x-python",
   "name": "python",
   "nbconvert_exporter": "python",
   "pygments_lexer": "ipython3",
   "version": "3.10.6"
  },
  "orig_nbformat": 4,
  "vscode": {
   "interpreter": {
    "hash": "f879003e71cbc4b01385244eb5d1ce026ab6725e9fa6a7085e74f721d8755f55"
   }
  }
 },
 "nbformat": 4,
 "nbformat_minor": 2
}
